{
  "nbformat": 4,
  "nbformat_minor": 0,
  "metadata": {
    "colab": {
      "name": "Untitled1.ipynb",
      "provenance": [],
      "include_colab_link": true
    },
    "kernelspec": {
      "name": "python3",
      "display_name": "Python 3"
    }
  },
  "cells": [
    {
      "cell_type": "markdown",
      "metadata": {
        "id": "view-in-github",
        "colab_type": "text"
      },
      "source": [
        "<a href=\"https://colab.research.google.com/github/70shakeel/DecisionTreeAssignment/blob/master/Neural%20Network%20Classifier%20for%20Breast%20Cancer.ipynb\" target=\"_parent\"><img src=\"https://colab.research.google.com/assets/colab-badge.svg\" alt=\"Open In Colab\"/></a>"
      ]
    },
    {
      "cell_type": "code",
      "metadata": {
        "id": "nR1Ywm-vVEDJ",
        "colab_type": "code",
        "colab": {}
      },
      "source": [
        "\n",
        "import numpy as np\n",
        "import pandas as pd\n",
        "import matplotlib.pyplot as plt\n",
        "from sklearn.metrics import confusion_matrix\n",
        "from sklearn.metrics import accuracy_score\n",
        "\n",
        "from sklearn.datasets import fetch_openml\n",
        "from sklearn.tree import DecisionTreeClassifier\n",
        "import seaborn as sns; sns.set()\n",
        "from sklearn.naive_bayes import GaussianNB\n",
        "from sklearn.metrics import confusion_matrix\n",
        "from skimage.transform import pyramid_gaussian\n",
        "import matplotlib\n",
        "import matplotlib.pyplot as plt\n",
        "import numpy as np"
      ],
      "execution_count": 0,
      "outputs": []
    },
    {
      "cell_type": "code",
      "metadata": {
        "id": "q7j8HRZgY4yg",
        "colab_type": "code",
        "colab": {}
      },
      "source": [
        "x_train = pd.read_csv(r'/content/drive/My Drive/IML Assignment 2/xtrain.csv')\n",
        "y_train = pd.read_csv(r'/content/drive/My Drive/IML Assignment 2/ytrain.csv')\n",
        "\n",
        "x_test = pd.read_csv(r'/content/drive/My Drive/IML Assignment 2/xtest.csv')\n",
        "y_test = pd.read_csv(r'/content/drive/My Drive/IML Assignment 2/ytest.csv')\n"
      ],
      "execution_count": 0,
      "outputs": []
    },
    {
      "cell_type": "code",
      "metadata": {
        "id": "NUL35yTVZr9F",
        "colab_type": "code",
        "outputId": "d19556d9-0514-456d-cf7c-1d10392659cc",
        "colab": {
          "base_uri": "https://localhost:8080/",
          "height": 34
        }
      },
      "source": [
        "x_train.shape"
      ],
      "execution_count": 3,
      "outputs": [
        {
          "output_type": "execute_result",
          "data": {
            "text/plain": [
              "(454, 30)"
            ]
          },
          "metadata": {
            "tags": []
          },
          "execution_count": 3
        }
      ]
    },
    {
      "cell_type": "code",
      "metadata": {
        "id": "LRqAVrcyZ9kq",
        "colab_type": "code",
        "outputId": "ea9f5ab3-6be1-4450-ed9c-c19ce37f05d0",
        "colab": {
          "base_uri": "https://localhost:8080/",
          "height": 34
        }
      },
      "source": [
        "len(y_train)"
      ],
      "execution_count": 4,
      "outputs": [
        {
          "output_type": "execute_result",
          "data": {
            "text/plain": [
              "454"
            ]
          },
          "metadata": {
            "tags": []
          },
          "execution_count": 4
        }
      ]
    },
    {
      "cell_type": "code",
      "metadata": {
        "id": "pQW3MjJcbVFr",
        "colab_type": "code",
        "colab": {}
      },
      "source": [
        "from sklearn.preprocessing import StandardScaler\n",
        "scaler = StandardScaler()\n",
        "x_train = scaler.fit_transform(x_train)\n",
        "x_test = scaler.transform(x_test)"
      ],
      "execution_count": 0,
      "outputs": []
    },
    {
      "cell_type": "code",
      "metadata": {
        "id": "qAWyYXY8FbNw",
        "colab_type": "code",
        "colab": {
          "base_uri": "https://localhost:8080/",
          "height": 34
        },
        "outputId": "c361e0bb-488e-4fc7-e27c-dea48fa82d0b"
      },
      "source": [
        "from google.colab import drive\n",
        "drive.mount('/content/drive')"
      ],
      "execution_count": 6,
      "outputs": [
        {
          "output_type": "stream",
          "text": [
            "Drive already mounted at /content/drive; to attempt to forcibly remount, call drive.mount(\"/content/drive\", force_remount=True).\n"
          ],
          "name": "stdout"
        }
      ]
    },
    {
      "cell_type": "code",
      "metadata": {
        "id": "UiiTZLWoHrJu",
        "colab_type": "code",
        "colab": {
          "base_uri": "https://localhost:8080/",
          "height": 34
        },
        "outputId": "2e7e017f-a0ce-4858-b707-a20cbc6056c7"
      },
      "source": [
        "x_train.shape"
      ],
      "execution_count": 7,
      "outputs": [
        {
          "output_type": "execute_result",
          "data": {
            "text/plain": [
              "(454, 30)"
            ]
          },
          "metadata": {
            "tags": []
          },
          "execution_count": 7
        }
      ]
    },
    {
      "cell_type": "code",
      "metadata": {
        "id": "mFihMMedIGD_",
        "colab_type": "code",
        "colab": {}
      },
      "source": [
        "from keras.models import Sequential\n",
        "from keras.layers import Dense, Activation"
      ],
      "execution_count": 0,
      "outputs": []
    },
    {
      "cell_type": "code",
      "metadata": {
        "id": "yHvIMKvnI3VV",
        "colab_type": "code",
        "colab": {}
      },
      "source": [
        "classifier = Sequential([\n",
        "    Dense(32, input_shape=(30,)),\n",
        "    Activation('relu'),\n",
        "    Dense(10),\n",
        "    Activation('softmax'),\n",
        "])"
      ],
      "execution_count": 0,
      "outputs": []
    },
    {
      "cell_type": "code",
      "metadata": {
        "id": "cjdKph9gKj1S",
        "colab_type": "code",
        "colab": {}
      },
      "source": [
        "classifier.add(Dense(units = 5, activation = 'relu', input_dim=9))\n",
        "classifier.add(Dense(units = 3, activation = 'relu'))\n",
        "classifier.add(Dense(units = 1, activation = 'sigmoid'))"
      ],
      "execution_count": 0,
      "outputs": []
    },
    {
      "cell_type": "code",
      "metadata": {
        "id": "0dNixBQaKs7w",
        "colab_type": "code",
        "colab": {}
      },
      "source": [
        "classifier.compile(optimizer='adam', loss='mean_squared_error', metrics=['accuracy'])"
      ],
      "execution_count": 0,
      "outputs": []
    },
    {
      "cell_type": "code",
      "metadata": {
        "id": "BGqQXtixK2K9",
        "colab_type": "code",
        "colab": {
          "base_uri": "https://localhost:8080/",
          "height": 1000
        },
        "outputId": "a5e543e8-dd26-4cad-ffaf-14349e08a118"
      },
      "source": [
        "classifier.fit(x_train, y_train, epochs = 100)"
      ],
      "execution_count": 24,
      "outputs": [
        {
          "output_type": "stream",
          "text": [
            "Epoch 1/100\n",
            "454/454 [==============================] - 0s 120us/step - loss: 0.1136 - acc: 0.9670\n",
            "Epoch 2/100\n",
            "454/454 [==============================] - 0s 78us/step - loss: 0.1006 - acc: 0.9736\n",
            "Epoch 3/100\n",
            "454/454 [==============================] - 0s 72us/step - loss: 0.0889 - acc: 0.9802\n",
            "Epoch 4/100\n",
            "454/454 [==============================] - 0s 82us/step - loss: 0.0782 - acc: 0.9824\n",
            "Epoch 5/100\n",
            "454/454 [==============================] - 0s 77us/step - loss: 0.0684 - acc: 0.9846\n",
            "Epoch 6/100\n",
            "454/454 [==============================] - 0s 74us/step - loss: 0.0600 - acc: 0.9868\n",
            "Epoch 7/100\n",
            "454/454 [==============================] - 0s 71us/step - loss: 0.0525 - acc: 0.9868\n",
            "Epoch 8/100\n",
            "454/454 [==============================] - 0s 69us/step - loss: 0.0460 - acc: 0.9868\n",
            "Epoch 9/100\n",
            "454/454 [==============================] - 0s 65us/step - loss: 0.0405 - acc: 0.9890\n",
            "Epoch 10/100\n",
            "454/454 [==============================] - 0s 67us/step - loss: 0.0360 - acc: 0.9890\n",
            "Epoch 11/100\n",
            "454/454 [==============================] - 0s 82us/step - loss: 0.0322 - acc: 0.9890\n",
            "Epoch 12/100\n",
            "454/454 [==============================] - 0s 73us/step - loss: 0.0289 - acc: 0.9912\n",
            "Epoch 13/100\n",
            "454/454 [==============================] - 0s 82us/step - loss: 0.0263 - acc: 0.9912\n",
            "Epoch 14/100\n",
            "454/454 [==============================] - 0s 74us/step - loss: 0.0240 - acc: 0.9912\n",
            "Epoch 15/100\n",
            "454/454 [==============================] - 0s 73us/step - loss: 0.0221 - acc: 0.9912\n",
            "Epoch 16/100\n",
            "454/454 [==============================] - 0s 66us/step - loss: 0.0206 - acc: 0.9912\n",
            "Epoch 17/100\n",
            "454/454 [==============================] - 0s 64us/step - loss: 0.0192 - acc: 0.9912\n",
            "Epoch 18/100\n",
            "454/454 [==============================] - 0s 64us/step - loss: 0.0180 - acc: 0.9912\n",
            "Epoch 19/100\n",
            "454/454 [==============================] - 0s 58us/step - loss: 0.0170 - acc: 0.9912\n",
            "Epoch 20/100\n",
            "454/454 [==============================] - 0s 60us/step - loss: 0.0161 - acc: 0.9912\n",
            "Epoch 21/100\n",
            "454/454 [==============================] - 0s 54us/step - loss: 0.0154 - acc: 0.9912\n",
            "Epoch 22/100\n",
            "454/454 [==============================] - 0s 52us/step - loss: 0.0147 - acc: 0.9912\n",
            "Epoch 23/100\n",
            "454/454 [==============================] - 0s 61us/step - loss: 0.0142 - acc: 0.9912\n",
            "Epoch 24/100\n",
            "454/454 [==============================] - 0s 51us/step - loss: 0.0137 - acc: 0.9912\n",
            "Epoch 25/100\n",
            "454/454 [==============================] - 0s 62us/step - loss: 0.0132 - acc: 0.9912\n",
            "Epoch 26/100\n",
            "454/454 [==============================] - 0s 58us/step - loss: 0.0128 - acc: 0.9912\n",
            "Epoch 27/100\n",
            "454/454 [==============================] - 0s 53us/step - loss: 0.0125 - acc: 0.9912\n",
            "Epoch 28/100\n",
            "454/454 [==============================] - 0s 50us/step - loss: 0.0122 - acc: 0.9912\n",
            "Epoch 29/100\n",
            "454/454 [==============================] - 0s 60us/step - loss: 0.0119 - acc: 0.9912\n",
            "Epoch 30/100\n",
            "454/454 [==============================] - 0s 52us/step - loss: 0.0117 - acc: 0.9912\n",
            "Epoch 31/100\n",
            "454/454 [==============================] - 0s 60us/step - loss: 0.0115 - acc: 0.9912\n",
            "Epoch 32/100\n",
            "454/454 [==============================] - 0s 56us/step - loss: 0.0113 - acc: 0.9912\n",
            "Epoch 33/100\n",
            "454/454 [==============================] - 0s 58us/step - loss: 0.0111 - acc: 0.9912\n",
            "Epoch 34/100\n",
            "454/454 [==============================] - 0s 50us/step - loss: 0.0109 - acc: 0.9912\n",
            "Epoch 35/100\n",
            "454/454 [==============================] - 0s 59us/step - loss: 0.0108 - acc: 0.9912\n",
            "Epoch 36/100\n",
            "454/454 [==============================] - 0s 58us/step - loss: 0.0107 - acc: 0.9912\n",
            "Epoch 37/100\n",
            "454/454 [==============================] - 0s 50us/step - loss: 0.0106 - acc: 0.9912\n",
            "Epoch 38/100\n",
            "454/454 [==============================] - 0s 51us/step - loss: 0.0105 - acc: 0.9912\n",
            "Epoch 39/100\n",
            "454/454 [==============================] - 0s 55us/step - loss: 0.0103 - acc: 0.9912\n",
            "Epoch 40/100\n",
            "454/454 [==============================] - 0s 50us/step - loss: 0.0102 - acc: 0.9912\n",
            "Epoch 41/100\n",
            "454/454 [==============================] - 0s 45us/step - loss: 0.0102 - acc: 0.9912\n",
            "Epoch 42/100\n",
            "454/454 [==============================] - 0s 48us/step - loss: 0.0101 - acc: 0.9912\n",
            "Epoch 43/100\n",
            "454/454 [==============================] - 0s 48us/step - loss: 0.0100 - acc: 0.9912\n",
            "Epoch 44/100\n",
            "454/454 [==============================] - 0s 51us/step - loss: 0.0099 - acc: 0.9912\n",
            "Epoch 45/100\n",
            "454/454 [==============================] - 0s 50us/step - loss: 0.0099 - acc: 0.9912\n",
            "Epoch 46/100\n",
            "454/454 [==============================] - 0s 50us/step - loss: 0.0098 - acc: 0.9912\n",
            "Epoch 47/100\n",
            "454/454 [==============================] - 0s 60us/step - loss: 0.0098 - acc: 0.9912\n",
            "Epoch 48/100\n",
            "454/454 [==============================] - 0s 48us/step - loss: 0.0097 - acc: 0.9912\n",
            "Epoch 49/100\n",
            "454/454 [==============================] - 0s 52us/step - loss: 0.0097 - acc: 0.9912\n",
            "Epoch 50/100\n",
            "454/454 [==============================] - 0s 53us/step - loss: 0.0096 - acc: 0.9912\n",
            "Epoch 51/100\n",
            "454/454 [==============================] - 0s 49us/step - loss: 0.0096 - acc: 0.9912\n",
            "Epoch 52/100\n",
            "454/454 [==============================] - 0s 52us/step - loss: 0.0095 - acc: 0.9912\n",
            "Epoch 53/100\n",
            "454/454 [==============================] - 0s 50us/step - loss: 0.0095 - acc: 0.9912\n",
            "Epoch 54/100\n",
            "454/454 [==============================] - 0s 49us/step - loss: 0.0095 - acc: 0.9912\n",
            "Epoch 55/100\n",
            "454/454 [==============================] - 0s 58us/step - loss: 0.0094 - acc: 0.9912\n",
            "Epoch 56/100\n",
            "454/454 [==============================] - 0s 48us/step - loss: 0.0094 - acc: 0.9912\n",
            "Epoch 57/100\n",
            "454/454 [==============================] - 0s 53us/step - loss: 0.0094 - acc: 0.9912\n",
            "Epoch 58/100\n",
            "454/454 [==============================] - 0s 47us/step - loss: 0.0093 - acc: 0.9912\n",
            "Epoch 59/100\n",
            "454/454 [==============================] - 0s 54us/step - loss: 0.0093 - acc: 0.9912\n",
            "Epoch 60/100\n",
            "454/454 [==============================] - 0s 49us/step - loss: 0.0093 - acc: 0.9912\n",
            "Epoch 61/100\n",
            "454/454 [==============================] - 0s 46us/step - loss: 0.0093 - acc: 0.9912\n",
            "Epoch 62/100\n",
            "454/454 [==============================] - 0s 52us/step - loss: 0.0092 - acc: 0.9912\n",
            "Epoch 63/100\n",
            "454/454 [==============================] - 0s 51us/step - loss: 0.0092 - acc: 0.9912\n",
            "Epoch 64/100\n",
            "454/454 [==============================] - 0s 57us/step - loss: 0.0092 - acc: 0.9912\n",
            "Epoch 65/100\n",
            "454/454 [==============================] - 0s 59us/step - loss: 0.0092 - acc: 0.9912\n",
            "Epoch 66/100\n",
            "454/454 [==============================] - 0s 67us/step - loss: 0.0092 - acc: 0.9912\n",
            "Epoch 67/100\n",
            "454/454 [==============================] - 0s 57us/step - loss: 0.0091 - acc: 0.9912\n",
            "Epoch 68/100\n",
            "454/454 [==============================] - 0s 62us/step - loss: 0.0091 - acc: 0.9912\n",
            "Epoch 69/100\n",
            "454/454 [==============================] - 0s 55us/step - loss: 0.0091 - acc: 0.9912\n",
            "Epoch 70/100\n",
            "454/454 [==============================] - 0s 60us/step - loss: 0.0091 - acc: 0.9912\n",
            "Epoch 71/100\n",
            "454/454 [==============================] - 0s 51us/step - loss: 0.0091 - acc: 0.9912\n",
            "Epoch 72/100\n",
            "454/454 [==============================] - 0s 55us/step - loss: 0.0091 - acc: 0.9912\n",
            "Epoch 73/100\n",
            "454/454 [==============================] - 0s 70us/step - loss: 0.0090 - acc: 0.9912\n",
            "Epoch 74/100\n",
            "454/454 [==============================] - 0s 60us/step - loss: 0.0090 - acc: 0.9912\n",
            "Epoch 75/100\n",
            "454/454 [==============================] - 0s 59us/step - loss: 0.0090 - acc: 0.9912\n",
            "Epoch 76/100\n",
            "454/454 [==============================] - 0s 58us/step - loss: 0.0090 - acc: 0.9912\n",
            "Epoch 77/100\n",
            "454/454 [==============================] - 0s 62us/step - loss: 0.0090 - acc: 0.9912\n",
            "Epoch 78/100\n",
            "454/454 [==============================] - 0s 63us/step - loss: 0.0090 - acc: 0.9912\n",
            "Epoch 79/100\n",
            "454/454 [==============================] - 0s 54us/step - loss: 0.0090 - acc: 0.9912\n",
            "Epoch 80/100\n",
            "454/454 [==============================] - 0s 67us/step - loss: 0.0090 - acc: 0.9912\n",
            "Epoch 81/100\n",
            "454/454 [==============================] - 0s 57us/step - loss: 0.0090 - acc: 0.9912\n",
            "Epoch 82/100\n",
            "454/454 [==============================] - 0s 62us/step - loss: 0.0090 - acc: 0.9912\n",
            "Epoch 83/100\n",
            "454/454 [==============================] - 0s 54us/step - loss: 0.0089 - acc: 0.9912\n",
            "Epoch 84/100\n",
            "454/454 [==============================] - 0s 76us/step - loss: 0.0089 - acc: 0.9912\n",
            "Epoch 85/100\n",
            "454/454 [==============================] - 0s 55us/step - loss: 0.0089 - acc: 0.9912\n",
            "Epoch 86/100\n",
            "454/454 [==============================] - 0s 51us/step - loss: 0.0089 - acc: 0.9912\n",
            "Epoch 87/100\n",
            "454/454 [==============================] - 0s 55us/step - loss: 0.0089 - acc: 0.9912\n",
            "Epoch 88/100\n",
            "454/454 [==============================] - 0s 57us/step - loss: 0.0089 - acc: 0.9912\n",
            "Epoch 89/100\n",
            "454/454 [==============================] - 0s 58us/step - loss: 0.0089 - acc: 0.9912\n",
            "Epoch 90/100\n",
            "454/454 [==============================] - 0s 59us/step - loss: 0.0089 - acc: 0.9912\n",
            "Epoch 91/100\n",
            "454/454 [==============================] - 0s 60us/step - loss: 0.0089 - acc: 0.9912\n",
            "Epoch 92/100\n",
            "454/454 [==============================] - 0s 54us/step - loss: 0.0089 - acc: 0.9912\n",
            "Epoch 93/100\n",
            "454/454 [==============================] - 0s 53us/step - loss: 0.0089 - acc: 0.9912\n",
            "Epoch 94/100\n",
            "454/454 [==============================] - 0s 58us/step - loss: 0.0089 - acc: 0.9912\n",
            "Epoch 95/100\n",
            "454/454 [==============================] - 0s 50us/step - loss: 0.0089 - acc: 0.9912\n",
            "Epoch 96/100\n",
            "454/454 [==============================] - 0s 51us/step - loss: 0.0088 - acc: 0.9912\n",
            "Epoch 97/100\n",
            "454/454 [==============================] - 0s 48us/step - loss: 0.0088 - acc: 0.9912\n",
            "Epoch 98/100\n",
            "454/454 [==============================] - 0s 65us/step - loss: 0.0088 - acc: 0.9912\n",
            "Epoch 99/100\n",
            "454/454 [==============================] - 0s 54us/step - loss: 0.0088 - acc: 0.9912\n",
            "Epoch 100/100\n",
            "454/454 [==============================] - 0s 50us/step - loss: 0.0088 - acc: 0.9912\n"
          ],
          "name": "stdout"
        },
        {
          "output_type": "execute_result",
          "data": {
            "text/plain": [
              "<keras.callbacks.History at 0x7fe30b446630>"
            ]
          },
          "metadata": {
            "tags": []
          },
          "execution_count": 24
        }
      ]
    },
    {
      "cell_type": "code",
      "metadata": {
        "id": "0wpSND6Adq0t",
        "colab_type": "code",
        "colab": {
          "base_uri": "https://localhost:8080/",
          "height": 54
        },
        "outputId": "657a57e6-19cc-4184-e83d-6bfa832e5f3b"
      },
      "source": [
        "y_pred = classifier.predict(x_test)\n",
        "y_pred = [ 1 if y>=0.5 else 0 for y in y_pred]\n",
        "print(y_pred)"
      ],
      "execution_count": 25,
      "outputs": [
        {
          "output_type": "stream",
          "text": [
            "[0, 0, 0, 0, 0, 0, 0, 0, 0, 0, 0, 0, 1, 1, 1, 0, 1, 1, 1, 1, 1, 0, 0, 1, 0, 0, 1, 0, 1, 0, 1, 0, 1, 0, 1, 0, 1, 0, 1, 1, 0, 1, 0, 0, 1, 0, 0, 0, 1, 1, 1, 1, 0, 0, 0, 0, 0, 0, 1, 1, 1, 0, 0, 1, 0, 1, 1, 1, 0, 1, 1, 0, 1, 1, 0, 0, 0, 0, 0, 1, 1, 1, 0, 1, 0, 0, 0, 1, 1, 0, 1, 1, 1, 0, 0, 1, 0, 0, 0, 0, 0, 0, 0, 1, 0, 1, 0, 0, 0, 0, 1, 1, 0]\n"
          ],
          "name": "stdout"
        }
      ]
    },
    {
      "cell_type": "code",
      "metadata": {
        "id": "1zHpfWLHd3Xr",
        "colab_type": "code",
        "colab": {
          "base_uri": "https://localhost:8080/",
          "height": 51
        },
        "outputId": "88923150-a89f-4e5b-d2de-822cbfdb6777"
      },
      "source": [
        "from sklearn.metrics import confusion_matrix\n",
        "cm = confusion_matrix(y_test, y_pred)\n",
        "print(cm)"
      ],
      "execution_count": 26,
      "outputs": [
        {
          "output_type": "stream",
          "text": [
            "[[63  4]\n",
            " [ 2 44]]\n"
          ],
          "name": "stdout"
        }
      ]
    },
    {
      "cell_type": "code",
      "metadata": {
        "id": "MwZXoDy6fTx5",
        "colab_type": "code",
        "colab": {
          "base_uri": "https://localhost:8080/",
          "height": 258
        },
        "outputId": "41923e8e-7a87-47a9-f1e4-2f85d4671090"
      },
      "source": [
        "\n",
        "print(accuracy_score(y_test, y_pred))\n",
        "\n",
        "\n",
        "mat = confusion_matrix(y_test, y_pred)\n",
        "sns.heatmap(mat.T, square=True, annot=True, fmt='d', cbar=False)\n",
        "plt.xlabel('true label')\n",
        "plt.ylabel('predicted label');"
      ],
      "execution_count": 32,
      "outputs": [
        {
          "output_type": "stream",
          "text": [
            "0.9469026548672567\n"
          ],
          "name": "stdout"
        },
        {
          "output_type": "display_data",
          "data": {
            "image/png": "[encoded data removed]",
            "text/plain": [
              "<Figure size 432x288 with 1 Axes>"
            ]
          },
          "metadata": {
            "tags": []
          }
        }
      ]
    }
  ]
}