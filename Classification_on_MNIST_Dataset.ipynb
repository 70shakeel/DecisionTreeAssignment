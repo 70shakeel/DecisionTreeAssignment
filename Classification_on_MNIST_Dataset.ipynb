{
  "nbformat": 4,
  "nbformat_minor": 0,
  "metadata": {
    "kernelspec": {
      "display_name": "Python 3",
      "language": "python",
      "name": "python3"
    },
    "language_info": {
      "codemirror_mode": {
        "name": "ipython",
        "version": 3
      },
      "file_extension": ".py",
      "mimetype": "text/x-python",
      "name": "python",
      "nbconvert_exporter": "python",
      "pygments_lexer": "ipython3",
      "version": "3.7.4"
    },
    "colab": {
      "name": "Classification_on_MNIST_Dataset.ipynb",
      "provenance": [],
      "collapsed_sections": [],
      "include_colab_link": true
    }
  },
  "cells": [
    {
      "cell_type": "markdown",
      "metadata": {
        "id": "view-in-github",
        "colab_type": "text"
      },
      "source": [
        "<a href=\"https://colab.research.google.com/github/70shakeel/DecisionTreeAssignment/blob/master/Classification_on_MNIST_Dataset.ipynb\" target=\"_parent\"><img src=\"https://colab.research.google.com/assets/colab-badge.svg\" alt=\"Open In Colab\"/></a>"
      ]
    },
    {
      "cell_type": "markdown",
      "metadata": {
        "id": "S0U7unMQN4ab",
        "colab_type": "text"
      },
      "source": [
        "## Libraries that will be used "
      ]
    },
    {
      "cell_type": "code",
      "metadata": {
        "id": "fKRioylwN4ac",
        "colab_type": "code",
        "colab": {}
      },
      "source": [
        "from sklearn.datasets import fetch_openml\n",
        "from sklearn.tree import DecisionTreeClassifier\n",
        "import seaborn as sns; sns.set()\n",
        "from sklearn.naive_bayes import GaussianNB\n",
        "from sklearn.metrics import confusion_matrix\n",
        "from skimage.transform import pyramid_gaussian\n",
        "import matplotlib\n",
        "import matplotlib.pyplot as plt\n",
        "import numpy as np"
      ],
      "execution_count": 0,
      "outputs": []
    },
    {
      "cell_type": "markdown",
      "metadata": {
        "id": "oHCbUThjLgxB",
        "colab_type": "text"
      },
      "source": [
        "## Fetching MNISH DATA"
      ]
    },
    {
      "cell_type": "code",
      "metadata": {
        "id": "rD6X_SKyN4ag",
        "colab_type": "code",
        "colab": {}
      },
      "source": [
        "mnist = fetch_openml('mnist_784')"
      ],
      "execution_count": 0,
      "outputs": []
    },
    {
      "cell_type": "markdown",
      "metadata": {
        "id": "aw8jJDcSLpgS",
        "colab_type": "text"
      },
      "source": [
        "## X will have the values of images and Y will have the labels."
      ]
    },
    {
      "cell_type": "code",
      "metadata": {
        "id": "JhPFpII4N4ai",
        "colab_type": "code",
        "colab": {}
      },
      "source": [
        "x, y = mnist['data'], mnist['target']"
      ],
      "execution_count": 0,
      "outputs": []
    },
    {
      "cell_type": "code",
      "metadata": {
        "id": "tHTgW2srN4al",
        "colab_type": "code",
        "outputId": "fdf30ec7-7000-4039-b0ae-aec4f63604e1",
        "colab": {
          "base_uri": "https://localhost:8080/",
          "height": 34
        }
      },
      "source": [
        "x.shape"
      ],
      "execution_count": 63,
      "outputs": [
        {
          "output_type": "execute_result",
          "data": {
            "text/plain": [
              "(70000, 784)"
            ]
          },
          "metadata": {
            "tags": []
          },
          "execution_count": 63
        }
      ]
    },
    {
      "cell_type": "code",
      "metadata": {
        "id": "hW5G-qa0N4ao",
        "colab_type": "code",
        "outputId": "4d749b2b-0fe1-41f6-a4b0-93e514eade4e",
        "colab": {
          "base_uri": "https://localhost:8080/",
          "height": 34
        }
      },
      "source": [
        "y.shape"
      ],
      "execution_count": 64,
      "outputs": [
        {
          "output_type": "execute_result",
          "data": {
            "text/plain": [
              "(70000,)"
            ]
          },
          "metadata": {
            "tags": []
          },
          "execution_count": 64
        }
      ]
    },
    {
      "cell_type": "code",
      "metadata": {
        "id": "Dr5CQ_mSN4ar",
        "colab_type": "code",
        "colab": {}
      },
      "source": [
        "%matplotlib inline"
      ],
      "execution_count": 0,
      "outputs": []
    },
    {
      "cell_type": "markdown",
      "metadata": {
        "id": "f2ZYWlE1ME9P",
        "colab_type": "text"
      },
      "source": [
        "##  Taking a random digit to plot"
      ]
    },
    {
      "cell_type": "code",
      "metadata": {
        "id": "TbEAYtyJN4av",
        "colab_type": "code",
        "colab": {}
      },
      "source": [
        "some_digit = x[675]\n",
        "some_digit_image = some_digit.reshape(28, 28) # lets reshape it to plot it"
      ],
      "execution_count": 0,
      "outputs": []
    },
    {
      "cell_type": "code",
      "metadata": {
        "id": "O8ySungkN4ay",
        "colab_type": "code",
        "outputId": "11842dda-2368-4426-e49a-eb24c04dd1ac",
        "colab": {
          "base_uri": "https://localhost:8080/",
          "height": 291
        }
      },
      "source": [
        "plt.imshow(some_digit_image, cmap=matplotlib.cm.binary, interpolation=\"nearest\")\n"
      ],
      "execution_count": 67,
      "outputs": [
        {
          "output_type": "execute_result",
          "data": {
            "text/plain": [
              "<matplotlib.image.AxesImage at 0x7f8b9eedf9b0>"
            ]
          },
          "metadata": {
            "tags": []
          },
          "execution_count": 67
        },
        {
          "output_type": "display_data",
          "data": {
            "image/png": "[encoded data removed]",
            "text/plain": [
              "<Figure size 432x288 with 1 Axes>"
            ]
          },
          "metadata": {
            "tags": []
          }
        }
      ]
    },
    {
      "cell_type": "markdown",
      "metadata": {
        "id": "rKGMGcAyML55",
        "colab_type": "text"
      },
      "source": [
        "## Label for radom digit from MNIST Dataset"
      ]
    },
    {
      "cell_type": "code",
      "metadata": {
        "id": "DeTq_63QN4a1",
        "colab_type": "code",
        "outputId": "a25b5f1b-8edd-4a9d-c5d3-e5ff909e961f",
        "colab": {
          "base_uri": "https://localhost:8080/",
          "height": 34
        }
      },
      "source": [
        "y[675]"
      ],
      "execution_count": 68,
      "outputs": [
        {
          "output_type": "execute_result",
          "data": {
            "text/plain": [
              "'3'"
            ]
          },
          "metadata": {
            "tags": []
          },
          "execution_count": 68
        }
      ]
    },
    {
      "cell_type": "markdown",
      "metadata": {
        "id": "o3e3OvU8MTnL",
        "colab_type": "text"
      },
      "source": [
        "## Splitting data into Training and Testing Parts"
      ]
    },
    {
      "cell_type": "code",
      "metadata": {
        "id": "n0S8XoHJN4a4",
        "colab_type": "code",
        "colab": {}
      },
      "source": [
        "x_train, x_test = x[0:60000], x[60000:70000]"
      ],
      "execution_count": 0,
      "outputs": []
    },
    {
      "cell_type": "code",
      "metadata": {
        "id": "tF9yzdF0N4a9",
        "colab_type": "code",
        "colab": {}
      },
      "source": [
        "y_train, y_test = y[0:60000], y[60000:70000]"
      ],
      "execution_count": 0,
      "outputs": []
    },
    {
      "cell_type": "code",
      "metadata": {
        "id": "pII5z4fIN4bA",
        "colab_type": "code",
        "colab": {}
      },
      "source": [
        "\n",
        "shuffle_index = np.random.permutation(60000)\n",
        "x_train, y_train = x_train[shuffle_index], y_train[shuffle_index]"
      ],
      "execution_count": 0,
      "outputs": []
    },
    {
      "cell_type": "markdown",
      "metadata": {
        "id": "090lR9HuMjZh",
        "colab_type": "text"
      },
      "source": [
        "Converting values into integers"
      ]
    },
    {
      "cell_type": "code",
      "metadata": {
        "id": "P-jmbBqJN4bD",
        "colab_type": "code",
        "colab": {}
      },
      "source": [
        "y_train = y_train.astype(np.int8)\n",
        "y_test = y_test.astype(np.int8)"
      ],
      "execution_count": 0,
      "outputs": []
    },
    {
      "cell_type": "code",
      "metadata": {
        "id": "ZbduZS2nN4bG",
        "colab_type": "code",
        "outputId": "f8b383e9-9062-4e94-e7cd-2198e318255e",
        "colab": {
          "base_uri": "https://localhost:8080/",
          "height": 34
        }
      },
      "source": [
        "y_train"
      ],
      "execution_count": 73,
      "outputs": [
        {
          "output_type": "execute_result",
          "data": {
            "text/plain": [
              "array([6, 9, 8, ..., 6, 2, 0], dtype=int8)"
            ]
          },
          "metadata": {
            "tags": []
          },
          "execution_count": 73
        }
      ]
    },
    {
      "cell_type": "markdown",
      "metadata": {
        "id": "xcuPI5fdMufT",
        "colab_type": "text"
      },
      "source": [
        "## Decision Tree Classifier from SK Learn"
      ]
    },
    {
      "cell_type": "code",
      "metadata": {
        "id": "Aexi4zCFN4bK",
        "colab_type": "code",
        "colab": {}
      },
      "source": [
        "clf = DecisionTreeClassifier().fit(x_train,y_train)"
      ],
      "execution_count": 0,
      "outputs": []
    },
    {
      "cell_type": "markdown",
      "metadata": {
        "id": "-Zp0hmuBM1eD",
        "colab_type": "text"
      },
      "source": [
        "## Implementiong Decision Tree Classifier on our Dataset and Calculating accuracy between predicted and test values and plotting them in Confusion Matrix."
      ]
    },
    {
      "cell_type": "code",
      "metadata": {
        "id": "LS79Hm257HcE",
        "colab_type": "code",
        "colab": {
          "base_uri": "https://localhost:8080/",
          "height": 342
        },
        "outputId": "5bfa1c68-2610-4a1e-9d3b-87671dbea8d8"
      },
      "source": [
        "y_pred = clf.predict(x_test)\n",
        "print(y_pred[0:20], \".....\")\n",
        "print(y_test[0:20], \".....\")\n",
        "from sklearn.metrics import accuracy_score\n",
        "print(accuracy_score(y_test, y_pred))\n",
        "\n",
        "mat = confusion_matrix(y_test, y_pred)\n",
        "sns.heatmap(mat.T, square=True, annot=True, fmt='d', cbar=False)\n",
        "plt.xlabel('true label')\n",
        "plt.ylabel('predicted label');"
      ],
      "execution_count": 75,
      "outputs": [
        {
          "output_type": "stream",
          "text": [
            "[7 2 1 0 4 1 4 7 6 9 0 6 9 0 1 5 9 7 6 4] .....\n",
            "[7 2 1 0 4 1 4 9 5 9 0 6 9 0 1 5 9 7 3 4] .....\n",
            "0.8774\n"
          ],
          "name": "stdout"
        },
        {
          "output_type": "display_data",
          "data": {
            "image/png": "[encoded data removed]",
            "text/plain": [
              "<Figure size 432x288 with 1 Axes>"
            ]
          },
          "metadata": {
            "tags": []
          }
        }
      ]
    },
    {
      "cell_type": "markdown",
      "metadata": {
        "id": "Vo1yCwz4NHzm",
        "colab_type": "text"
      },
      "source": [
        "## Naive Bayes Classifier from SK Learn"
      ]
    },
    {
      "cell_type": "markdown",
      "metadata": {
        "id": "gtSPDjG1NQpA",
        "colab_type": "text"
      },
      "source": [
        "Implementing Naive Bayes Classifier and Checking Accuracy of Predicted and Test Values and plotting them in Confusion Matrix."
      ]
    },
    {
      "cell_type": "code",
      "metadata": {
        "id": "Si8nLd8r9Qlh",
        "colab_type": "code",
        "colab": {
          "base_uri": "https://localhost:8080/",
          "height": 308
        },
        "outputId": "74df794f-7eb8-4234-f875-84ee6aa461cd"
      },
      "source": [
        "model = GaussianNB()\n",
        "\n",
        "model.fit(x_train, y_train)\n",
        "\n",
        "yhat = model.predict(x_test)\n",
        "\n",
        "from sklearn.metrics import accuracy_score\n",
        "print(accuracy_score(y_test, yhat))\n",
        "\n",
        "mat = confusion_matrix(y_test, yhat)\n",
        "sns.heatmap(mat.T, square=True, annot=True, fmt='d', cbar=False)\n",
        "plt.xlabel('true label')\n",
        "plt.ylabel('predicted label');\n",
        "\n"
      ],
      "execution_count": 76,
      "outputs": [
        {
          "output_type": "stream",
          "text": [
            "0.5558\n"
          ],
          "name": "stdout"
        },
        {
          "output_type": "display_data",
          "data": {
            "image/png": "[encoded data removed]",
            "text/plain": [
              "<Figure size 432x288 with 1 Axes>"
            ]
          },
          "metadata": {
            "tags": []
          }
        }
      ]
    },
    {
      "cell_type": "markdown",
      "metadata": {
        "id": "qXT0arDINxqx",
        "colab_type": "text"
      },
      "source": [
        "## Conclusion"
      ]
    },
    {
      "cell_type": "markdown",
      "metadata": {
        "id": "JCuWpC2_Nzvy",
        "colab_type": "text"
      },
      "source": [
        "As we see, according to the accuracy given by Decision Tree Classifier is more than Naive Bayes and Confusion Matrix also reflects the same results. We can conclude that on MNIST dataset, Decision Tree is more accurate and hence should be preffered."
      ]
    }
  ]
}